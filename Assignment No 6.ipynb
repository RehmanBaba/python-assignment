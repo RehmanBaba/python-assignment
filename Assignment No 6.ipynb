{
 "cells": [
  {
   "cell_type": "markdown",
   "metadata": {},
   "source": [
    "Ans No 1: Object oriented programming is a way of solving complex problems by breaking them into smaller problems using objects. Before Object Oriented Programming (commonly referred as OOP), programs were written in procedural language, they were nothing but a long list of instructions. On the other hand, the OOP is all about creating objects that can interact with each other, this makes it easier to develop programs in OOP as we can understand the relationship between them."
   ]
  },
  {
   "cell_type": "markdown",
   "metadata": {},
   "source": [
    "Ans No 2: Here is the list of benefits of oop;\n",
    "1) Modularity for easier troubleshooting. Something has gone wrong, and you have no idea where to look. ...\n",
    "2) Reuse of code through inheritance. ...\n",
    "3) Flexibility through polymorphism. ...\n",
    "4) Effective problem solving."
   ]
  },
  {
   "cell_type": "markdown",
   "metadata": {},
   "source": [
    "Ans No 3: Function is what we call any normal function that we create in a program. Method is a function that we declare in a class"
   ]
  },
  {
   "cell_type": "markdown",
   "metadata": {},
   "source": [
    "Ans No 4: \n",
    "1:- Class:\n",
    "Class can also be defined as user defined data type but it also contains functions in it. So, class is basically a blueprint for object. It declare & defines what data variables the object will have and what operations can be performed on the class's object. It is a logical entity.\n",
    "2:- Objects:\n",
    "Objects are the basic unit of OOP. They are instances of class, which have data members and uses various member functions to perform tasks. Any entity that has state and behavior is known as an object. For example: chair, pen, table, keyboard, bike etc. It can be physical and logical.\n",
    "3:- Attribute:\n",
    "Attributes are data stored inside a class or instance and represent the state or quality of the class or instance. In short, attributes store information about the instance.\n",
    "4:- Behavior:\n",
    "A class's behavior determines how an instance of that class operates; for example, how it will \"react\" if asked to do something by another class or object or if its internal state changes. Behavior is the only way objects can do anything to themselves or have anything done to them."
   ]
  },
  {
   "cell_type": "code",
   "execution_count": 1,
   "metadata": {},
   "outputs": [
    {
     "name": "stdout",
     "output_type": "stream",
     "text": [
      "honda civic\n",
      "red\n",
      "Honda\n",
      "1500000\n",
      "2019\n",
      "honda civic modified\n",
      "BMW B21 modified\n",
      "2100000 modified\n"
     ]
    }
   ],
   "source": [
    "class Car():\n",
    "    def __init__(self,model,color,name,price,year):\n",
    "        self.model = model\n",
    "        self.color = color\n",
    "        self.name = name\n",
    "        self.price = price\n",
    "        self.year = year\n",
    "        \n",
    "    def updatecar(self, Newname):\n",
    "        self.name = Newname\n",
    "        \n",
    "    def updatecar2(self, Newmodel):\n",
    "        self.model = Newmodel\n",
    "        \n",
    "    def updatecar3(self, Newprice):\n",
    "        self.price = Newprice\n",
    "        \n",
    "        \n",
    "new = Car(\"honda civic\", \"red\", \"Honda\", \"1500000\", \"2019\")\n",
    "print(new.model)\n",
    "print(new.color)\n",
    "print(new.name)\n",
    "print(new.price)\n",
    "print(new.year)\n",
    "\n",
    "corolla = Car(\"toyota corolla\", \"white\", \"toyota\", \"1800000\", \"2020\")\n",
    "city = Car(\"honda city\", \"black\", \"honda\", \"1200000\", \"2018\")\n",
    "mehran = Car(\"suzuki mehran\", \"gray\", \"suzuki\", \"800000\", \"2017\")\n",
    "audi = Car(\"Audi A1\", \"yellow\", \"Audi\", \"3800000\", \"2018\")\n",
    "\n",
    "new.updatecar(\"BMW B21\")\n",
    "print(new.model, \"modified\")\n",
    "\n",
    "new.updatecar2(\"BMW\")\n",
    "print(new.name, \"modified\")\n",
    "\n",
    "new.updatecar3(\"2100000\")\n",
    "print(new.price, \"modified\")"
   ]
  },
  {
   "cell_type": "code",
   "execution_count": null,
   "metadata": {},
   "outputs": [],
   "source": []
  }
 ],
 "metadata": {
  "kernelspec": {
   "display_name": "Python 3",
   "language": "python",
   "name": "python3"
  },
  "language_info": {
   "codemirror_mode": {
    "name": "ipython",
    "version": 3
   },
   "file_extension": ".py",
   "mimetype": "text/x-python",
   "name": "python",
   "nbconvert_exporter": "python",
   "pygments_lexer": "ipython3",
   "version": "3.7.4"
  }
 },
 "nbformat": 4,
 "nbformat_minor": 2
}
