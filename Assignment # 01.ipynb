{
 "cells": [
  {
   "cell_type": "code",
   "execution_count": 15,
   "metadata": {},
   "outputs": [
    {
     "name": "stdout",
     "output_type": "stream",
     "text": [
      "\tTwinkle, twinkle, little star, \n",
      " \t\tHow I wonder what you are! \n",
      " \t\t\tUp above the world so high, \n",
      " \t\t\tLike a diamond in the sky. \n",
      " \tTwinkle, twinkle, little star, \n",
      " \t\tHow I wonder what you are\n"
     ]
    }
   ],
   "source": [
    "print(\"\\tTwinkle, twinkle, little star, \\n \\t\\tHow I wonder what you are! \\n \\t\\t\\tUp above the world so high, \\n \\t\\t\\tLike a diamond in the sky. \\n \\tTwinkle, twinkle, little star, \\n \\t\\tHow I wonder what you are\")"
   ]
  },
  {
   "cell_type": "code",
   "execution_count": 16,
   "metadata": {},
   "outputs": [
    {
     "name": "stdout",
     "output_type": "stream",
     "text": [
      "the python version I am using is:\n",
      "3.7.4 (default, Aug  9 2019, 18:34:13) [MSC v.1915 64 bit (AMD64)]\n"
     ]
    }
   ],
   "source": [
    "import sys\n",
    "print(\"the python version I am using is:\")\n",
    "print(sys.version)"
   ]
  },
  {
   "cell_type": "code",
   "execution_count": 17,
   "metadata": {},
   "outputs": [
    {
     "name": "stdout",
     "output_type": "stream",
     "text": [
      "the current date and time is : \n",
      "2019-11-04 17:47:03\n"
     ]
    }
   ],
   "source": [
    "import datetime\n",
    "now = datetime.datetime.now()\n",
    "print(\"the current date and time is : \")\n",
    "print(now.strftime(\"%Y-%m-%d %H:%M:%S\"))"
   ]
  },
  {
   "cell_type": "code",
   "execution_count": 18,
   "metadata": {},
   "outputs": [
    {
     "name": "stdout",
     "output_type": "stream",
     "text": [
      "enter the value of radius 14\n",
      "the area of circle is :\n",
      "615.44\n"
     ]
    }
   ],
   "source": [
    "r= int(input(\"enter the value of radius \"))\n",
    "area = 3.14*r*r\n",
    "print(\"the area of circle is :\")\n",
    "print(area)"
   ]
  },
  {
   "cell_type": "code",
   "execution_count": 19,
   "metadata": {},
   "outputs": [
    {
     "name": "stdout",
     "output_type": "stream",
     "text": [
      "enter your first name Rehman \n",
      "enter your last name Kerano\n",
      "Kerano Rehman \n"
     ]
    }
   ],
   "source": [
    "f_name= input(\"enter your first name \")\n",
    "l_name= input(\"enter your last name \")\n",
    "print(l_name + \" \" + f_name)"
   ]
  },
  {
   "cell_type": "code",
   "execution_count": 20,
   "metadata": {},
   "outputs": [
    {
     "name": "stdout",
     "output_type": "stream",
     "text": [
      "enter the first integer 55\n",
      "enter the second integer 32\n",
      "their addition is: \n",
      "87\n"
     ]
    }
   ],
   "source": [
    "x= int(input(\"enter the first integer \"))\n",
    "y= int(input(\"enter the second integer \"))\n",
    "print(\"their addition is: \")\n",
    "print(x+y)"
   ]
  },
  {
   "cell_type": "code",
   "execution_count": null,
   "metadata": {},
   "outputs": [],
   "source": []
  }
 ],
 "metadata": {
  "kernelspec": {
   "display_name": "Python 3",
   "language": "python",
   "name": "python3"
  },
  "language_info": {
   "codemirror_mode": {
    "name": "ipython",
    "version": 3
   },
   "file_extension": ".py",
   "mimetype": "text/x-python",
   "name": "python",
   "nbconvert_exporter": "python",
   "pygments_lexer": "ipython3",
   "version": "3.7.4"
  }
 },
 "nbformat": 4,
 "nbformat_minor": 2
}
