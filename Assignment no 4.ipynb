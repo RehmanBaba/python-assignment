{
 "cells": [
  {
   "cell_type": "code",
   "execution_count": 1,
   "metadata": {},
   "outputs": [
    {
     "name": "stdout",
     "output_type": "stream",
     "text": [
      "{'first_name': 'Rehman', 'last_name ': 'Kerano', 'age ': 20, 'city ': 'Hyderabad'}\n",
      "{'first_name': 'Rehman', 'last_name ': 'Kerano', 'age ': 20, 'city ': 'Hyderabad', 'qualification': 'Intermediate'}\n",
      "{'first_name': 'Rehman', 'last_name ': 'Kerano', 'age ': 20, 'city ': 'Hyderabad', 'qualification': 'Graduate'}\n",
      "{'first_name': 'Rehman', 'last_name ': 'Kerano', 'age ': 20, 'city ': 'Hyderabad'}\n"
     ]
    }
   ],
   "source": [
    "data = {\n",
    "    \"first_name\": \"Rehman\",\n",
    "    \"last_name \": \"Kerano\",\n",
    "    \"age \": 20,\n",
    "    \"city \": \"Hyderabad\"\n",
    "}\n",
    "print(data)\n",
    "data[\"qualification\"] = \"Intermediate\"\n",
    "print(data)\n",
    "data[\"qualification\"] = \"Graduate\"\n",
    "print(data)\n",
    "del data[\"qualification\"]\n",
    "print (data)"
   ]
  },
  {
   "cell_type": "code",
   "execution_count": 8,
   "metadata": {},
   "outputs": [
    {
     "name": "stdout",
     "output_type": "stream",
     "text": [
      "for Islamabad\n",
      "{'country ': 'Pakistan ', 'population ': '1.015 million', 'fact ': 'Capital of Pakistan'}\n",
      "for London\n",
      "{'country ': 'England ', 'population ': '8.9 million', 'fact ': 'holds some iconic buildings as, Big Ben and the London-eye'}\n",
      "for Paris\n",
      "{'country ': 'France ', 'population ': '2.141 million', 'fact ': 'Capital of France and holds the Iconic Eiffel Tower'}\n"
     ]
    }
   ],
   "source": [
    "cities = {\n",
    "    \"Islamabad\": {\n",
    "        \"country \": \"Pakistan \",\n",
    "        \"population \": \"1.015 million\",\n",
    "        \"fact \": \"Capital of Pakistan\"\n",
    "    },\n",
    "    \"London\": {\n",
    "        \"country \": \"England \",\n",
    "        \"population \": \"8.9 million\",\n",
    "        \"fact \": \"holds some iconic buildings as, Big Ben and the London-eye\"\n",
    "    },\n",
    "    \"Paris\": {\n",
    "        \"country \": \"France \",\n",
    "        \"population \": \"2.141 million\",\n",
    "        \"fact \": \"Capital of France and holds the Iconic Eiffel Tower\"\n",
    "    },\n",
    "}\n",
    "print(\"for Islamabad\")\n",
    "print(cities[\"Islamabad\"])\n",
    "print(\"for London\")\n",
    "print(cities[\"London\"])\n",
    "print(\"for Paris\")\n",
    "print(cities[\"Paris\"])"
   ]
  },
  {
   "cell_type": "code",
   "execution_count": 22,
   "metadata": {},
   "outputs": [
    {
     "name": "stdout",
     "output_type": "stream",
     "text": [
      "enter your age 65\n",
      "pay $15\n"
     ]
    }
   ],
   "source": [
    "age= int(input(\"enter your age \"))\n",
    "if age <= 3:\n",
    "    print(\"your ticket is free\")\n",
    "elif age > 3 and age <= 12:\n",
    "    print(\"pay $10\")\n",
    "elif age > 12:\n",
    "    print(\"pay $15\")\n",
    "else:\n",
    "    print(\"enter correct age\")"
   ]
  },
  {
   "cell_type": "code",
   "execution_count": 23,
   "metadata": {},
   "outputs": [
    {
     "name": "stdout",
     "output_type": "stream",
     "text": [
      "as One of my favorite books is sherlock holmes\n"
     ]
    }
   ],
   "source": [
    "def favorite_book(name):\n",
    "    print(\"as One of my favorite books is\" , name)\n",
    "    \n",
    "favorite_book(\"sherlock holmes\")"
   ]
  },
  {
   "cell_type": "code",
   "execution_count": 26,
   "metadata": {},
   "outputs": [
    {
     "name": "stdout",
     "output_type": "stream",
     "text": [
      "guess a number between 1 and 30\n",
      "take a guess 6\n",
      "Your guess is too high.\n",
      "take a guess 3\n",
      "Your guess is too low.\n",
      "take a guess 4\n",
      "your guess is correct\n"
     ]
    }
   ],
   "source": [
    "import random\n",
    "guessesTaken = 0\n",
    "number = random.randint(1, 30)\n",
    "print(\"guess a number between 1 and 30\")\n",
    "while guessesTaken < 3:\n",
    "    guess = int(input(\"take a guess \"))\n",
    "    guessesTaken = guessesTaken + 1\n",
    "    if guess < number:\n",
    "        print('Your guess is too low.')\n",
    "    if guess > number:\n",
    "        print('Your guess is too high.')\n",
    "    if guess == number:\n",
    "        break\n",
    "if guess == number:\n",
    "    guessesTaken = str(guessesTaken)\n",
    "    print(\"your guess is correct\")\n",
    "if guess != number:\n",
    "    number = str(number)\n",
    "    print(\"wrong guess\")\n",
    "             "
   ]
  },
  {
   "cell_type": "code",
   "execution_count": null,
   "metadata": {},
   "outputs": [],
   "source": []
  },
  {
   "cell_type": "code",
   "execution_count": null,
   "metadata": {},
   "outputs": [],
   "source": []
  },
  {
   "cell_type": "code",
   "execution_count": null,
   "metadata": {},
   "outputs": [],
   "source": []
  }
 ],
 "metadata": {
  "kernelspec": {
   "display_name": "Python 3",
   "language": "python",
   "name": "python3"
  },
  "language_info": {
   "codemirror_mode": {
    "name": "ipython",
    "version": 3
   },
   "file_extension": ".py",
   "mimetype": "text/x-python",
   "name": "python",
   "nbconvert_exporter": "python",
   "pygments_lexer": "ipython3",
   "version": "3.7.4"
  }
 },
 "nbformat": 4,
 "nbformat_minor": 2
}
