{
 "cells": [
  {
   "cell_type": "code",
   "execution_count": 1,
   "metadata": {},
   "outputs": [
    {
     "name": "stdout",
     "output_type": "stream",
     "text": [
      "The factorial of 6 is 720\n"
     ]
    }
   ],
   "source": [
    "def fact (num):\n",
    "    factorial = 1\n",
    "    if num < 0:\n",
    "        print(\"factorial of negative number does not exist\")\n",
    "    elif num == 0:\n",
    "        print(\"The factorial of 0 is 1\")\n",
    "    else:\n",
    "        for i in range(1,num + 1):\n",
    "            factorial = factorial*i\n",
    "        print(\"The factorial of\",num,\"is\",factorial)\n",
    "        \n",
    "fact(6)"
   ]
  },
  {
   "cell_type": "code",
   "execution_count": 2,
   "metadata": {},
   "outputs": [
    {
     "name": "stdout",
     "output_type": "stream",
     "text": [
      "Original String :  My Name Is Rehman\n",
      "No. of Upper case characters :  4\n",
      "No. of Lower case Characters :  10\n"
     ]
    }
   ],
   "source": [
    "def CaseCheck(check):\n",
    "    d={\"UPPER_CASE\":0,\n",
    "       \"LOWER_CASE\":0}\n",
    "    for c in check:\n",
    "        if c.isupper():\n",
    "           d[\"UPPER_CASE\"]+=1\n",
    "        elif c.islower():\n",
    "           d[\"LOWER_CASE\"]+=1\n",
    "        else:\n",
    "           pass\n",
    "    print (\"Original String : \", check)\n",
    "    print (\"No. of Upper case characters : \", d[\"UPPER_CASE\"])\n",
    "    print (\"No. of Lower case Characters : \", d[\"LOWER_CASE\"])\n",
    "\n",
    "CaseCheck(\"My Name Is Rehman\")"
   ]
  },
  {
   "cell_type": "code",
   "execution_count": 3,
   "metadata": {},
   "outputs": [
    {
     "name": "stdout",
     "output_type": "stream",
     "text": [
      "54\n",
      "92\n",
      "108\n"
     ]
    }
   ],
   "source": [
    "rbk = [54, 75, 92, 65, 108]\n",
    "for x in rbk:\n",
    "    if x%2==0:\n",
    "        print (x)"
   ]
  },
  {
   "cell_type": "code",
   "execution_count": 4,
   "metadata": {},
   "outputs": [
    {
     "name": "stdout",
     "output_type": "stream",
     "text": [
      "the given string is Palindrome\n"
     ]
    }
   ],
   "source": [
    "def reverse(s): \n",
    "    return s[::-1] \n",
    "  \n",
    "def isPalindrome(s): \n",
    "    rev = reverse(s) \n",
    "   \n",
    "    if (s == rev): \n",
    "        return True\n",
    "    return False\n",
    "  \n",
    "  \n",
    "ans= isPalindrome(\"madam\") \n",
    "  \n",
    "if ans == 1: \n",
    "    print(\"the given string is Palindrome\") \n",
    "else: \n",
    "    print(\"it is not Palindrome\") "
   ]
  },
  {
   "cell_type": "code",
   "execution_count": 5,
   "metadata": {},
   "outputs": [
    {
     "name": "stdout",
     "output_type": "stream",
     "text": [
      "13 is a prime number\n"
     ]
    }
   ],
   "source": [
    "def checkPrime (num):\n",
    "    if num > 1:\n",
    "        for i in range(2, num//2):\n",
    "            if (num % i) == 0: \n",
    "                print(num, \"is not a prime number\")\n",
    "                break\n",
    "            else: \n",
    "                print(num, \"is a prime number\")\n",
    "                break\n",
    "    else: \n",
    "        print(num, \"is not a prime number\") \n",
    "        \n",
    "checkPrime(13)"
   ]
  },
  {
   "cell_type": "code",
   "execution_count": 6,
   "metadata": {},
   "outputs": [
    {
     "name": "stdout",
     "output_type": "stream",
     "text": [
      "('milk', 'bread', 'vegetables', 'fruits')\n"
     ]
    }
   ],
   "source": [
    "def shopList (*things):\n",
    "    print(things)\n",
    "    \n",
    "shopList(\"milk\", \"bread\", \"vegetables\", \"fruits\")"
   ]
  },
  {
   "cell_type": "code",
   "execution_count": null,
   "metadata": {},
   "outputs": [],
   "source": []
  }
 ],
 "metadata": {
  "kernelspec": {
   "display_name": "Python 3",
   "language": "python",
   "name": "python3"
  },
  "language_info": {
   "codemirror_mode": {
    "name": "ipython",
    "version": 3
   },
   "file_extension": ".py",
   "mimetype": "text/x-python",
   "name": "python",
   "nbconvert_exporter": "python",
   "pygments_lexer": "ipython3",
   "version": "3.7.4"
  }
 },
 "nbformat": 4,
 "nbformat_minor": 2
}
